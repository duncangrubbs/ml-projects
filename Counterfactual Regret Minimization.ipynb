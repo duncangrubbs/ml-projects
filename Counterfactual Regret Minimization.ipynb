{
 "cells": [
  {
   "cell_type": "code",
   "execution_count": 12,
   "metadata": {},
   "outputs": [
    {
     "name": "stdout",
     "output_type": "stream",
     "text": [
      "Populating the interactive namespace from numpy and matplotlib\n"
     ]
    }
   ],
   "source": [
    "%pylab inline\n",
    "%reload_ext autoreload\n",
    "%autoreload 2\n",
    "import random"
   ]
  },
  {
   "cell_type": "markdown",
   "metadata": {},
   "source": [
    "# Counterfactual Regret Minimization\n",
    "\n",
    "### Description\n",
    "The idea is to use the concept of \"regret\" in a game-theoretic world to learn the the best possible strategy to play given an opponents strategy.\n",
    "\n",
    "This algorithm will coverge to MSNE (Nash Equilibrium).\n",
    "\n",
    "[See article](http://modelai.gettysburg.edu/2013/cfr/cfr.pdf)"
   ]
  },
  {
   "cell_type": "code",
   "execution_count": 10,
   "metadata": {},
   "outputs": [],
   "source": [
    "# Define constants\n",
    "ROCK, PAPER, SCISSORS = 0, 1, 2\n",
    "NUM_ACTIONS = 3\n",
    "\n",
    "# np arrays for the two strageties\n",
    "# start your own strategy as all 0s\n",
    "strategy = np.zeros(NUM_ACTIONS, dtype=float)\n",
    "oppStrategy = np.array([0.4, 0.3, 0.3])\n",
    "\n",
    "# sums for averaging later on\n",
    "regretSum = np.zeros(NUM_ACTIONS, dtype=float)\n",
    "strategySum = np.zeros(NUM_ACTIONS, dtype=float)"
   ]
  },
  {
   "cell_type": "code",
   "execution_count": 13,
   "metadata": {
    "scrolled": true
   },
   "outputs": [
    {
     "name": "stdout",
     "output_type": "stream",
     "text": [
      "[0.33333333 0.33333333 0.33333333]\n"
     ]
    }
   ],
   "source": [
    "# returns the value for player 1 given\n",
    "# action choices of player one and player two\n",
    "def value(p1, p2):\n",
    "    if (p1 == ROCK and p2 == SCISSORS):\n",
    "        return 1\n",
    "    if (p1 == PAPER and p2 == ROCK):\n",
    "        return 1\n",
    "    if (p1 == SCISSORS and p2 == PAPER):\n",
    "        return 1\n",
    "    elif (p1 == p2):\n",
    "        return 0\n",
    "    else:\n",
    "        return -1\n",
    "    \n",
    "def getStrategy():\n",
    "    normalizingSum = 0\n",
    "    # for each action (e.g. rock, paper, scissors)\n",
    "    for a in range(0, NUM_ACTIONS):\n",
    "        # the prob that our player plays that action\n",
    "        # is the regret sum (if positive), 0 otherwise\n",
    "        strategy[a] = regretSum[a] if regretSum[a] > 0 else 0\n",
    "        # add the probability to the normalization constant\n",
    "        normalizingSum += strategy[a]\n",
    "    for a in range(0, NUM_ACTIONS):\n",
    "        # for every sigma(i), normalize if neccesary\n",
    "        if (normalizingSum > 0):\n",
    "            strategy[a] = strategy[a] / normalizingSum\n",
    "        else:\n",
    "            strategy[a] = 1.0 / NUM_ACTIONS\n",
    "        strategySum[a] += strategy[a]\n",
    "    return strategy\n",
    "\n",
    "print(getStrategy())\n",
    "\n",
    "def getAction(strategy):\n",
    "    r = np.random.random()\n",
    "    a = 0\n",
    "    cumProbability = 0\n",
    "    while (a < NUM_ACTIONS - 1):\n",
    "        cumProbability += strategy[a]\n",
    "        if (r < cumProbability):\n",
    "            break\n",
    "        a = a + 1\n",
    "    return a"
   ]
  },
  {
   "cell_type": "code",
   "execution_count": 75,
   "metadata": {},
   "outputs": [],
   "source": [
    "def train(iterations):\n",
    "    actionUtility = np.zeros(NUM_ACTIONS)\n",
    "    for i in range(0, iterations):\n",
    "        strategy = getStrategy()\n",
    "        myAction = getAction(strategy)\n",
    "        oppAction = getAction(oppStrategy)\n",
    "        actionUtility[oppAction] = 0\n",
    "        actionUtility[0 if oppAction == NUM_ACTIONS - 1 else oppAction + 1] = 1\n",
    "        actionUtility[NUM_ACTIONS - 1 if oppAction == 0 else oppAction - 1] = -1\n",
    "        for x in range(0, NUM_ACTIONS):\n",
    "            regretSum[x] += actionUtility[x] - actionUtility[myAction]\n",
    "            \n",
    "def getAverageStrategy():\n",
    "    avgStrategy = np.zeros(NUM_ACTIONS, dtype=float)\n",
    "    normalizingSum = 0\n",
    "    for a in range(0, NUM_ACTIONS):\n",
    "        normalizingSum += strategySum[a]\n",
    "        \n",
    "    for a in range(0, NUM_ACTIONS):\n",
    "        if (normalizingSum > 0):\n",
    "            avgStrategy[a] = strategySum[a] / normalizingSum\n",
    "        else:\n",
    "            avgStrategy[a] = 1 / NUM_ACTIONS\n",
    "    return avgStrategy"
   ]
  },
  {
   "cell_type": "code",
   "execution_count": 82,
   "metadata": {},
   "outputs": [
    {
     "data": {
      "text/plain": [
       "([<matplotlib.lines.Line2D at 0x110ac6f60>], -8.995, array([0., 0., 1.]))"
      ]
     },
     "execution_count": 82,
     "metadata": {},
     "output_type": "execute_result"
    },
    {
     "data": {
      "image/png": "[encoded data removed]",
      "text/plain": [
       "<Figure size 432x288 with 1 Axes>"
      ]
     },
     "metadata": {},
     "output_type": "display_data"
    }
   ],
   "source": [
    "train(1000)\n",
    "\n",
    "bestStrat = getAverageStrategy()\n",
    "vvv = []\n",
    "for r in range(0, 200):\n",
    "    vv = 0\n",
    "    for i in range(0, 100):\n",
    "        strat = getStrategy()\n",
    "        strat = bestStrat\n",
    "        action = getAction(strat)\n",
    "        otherAction = getAction(oppStrategy)\n",
    "        vv += value(action, otherAction)\n",
    "    vvv.append(vv)\n",
    "plot(sorted(vvv)), np.mean(vvv), bestStrat"
   ]
  },
  {
   "cell_type": "code",
   "execution_count": 83,
   "metadata": {},
   "outputs": [
    {
     "data": {
      "image/png": "[encoded data removed]",
      "text/plain": [
       "<Figure size 432x288 with 1 Axes>"
      ]
     },
     "metadata": {},
     "output_type": "display_data"
    }
   ],
   "source": [
    "strategies = []\n",
    "for x in range(0, 5):\n",
    "    strategies = [getAction(getStrategy()) for i in range(0, 100)]\n",
    "    plot(sorted(strategies))"
   ]
  },
  {
   "cell_type": "code",
   "execution_count": 76,
   "metadata": {},
   "outputs": [
    {
     "name": "stdout",
     "output_type": "stream",
     "text": [
      "[0.03187615 0.31765857 0.65046528]\n"
     ]
    }
   ],
   "source": [
    "# we are player one\n",
    "\n",
    "cum_regret = np.zeros(3, dtype=float)\n",
    "\n",
    "def bad_strat():\n",
    "    num1 = np.random.random()\n",
    "    if (num1 <= .3):\n",
    "        p1_s = ROCK\n",
    "    elif (num1 <= .6):\n",
    "        p1_S = PAPER\n",
    "    else:\n",
    "        p1_s = SCISSORS\n",
    "    return p1_s\n",
    "    \n",
    "for i in range(0, 1000):\n",
    "    p1_s = 0\n",
    "    p2_S = 0\n",
    "    num1 = np.random.random()\n",
    "    num2 = np.random.random()\n",
    "    \n",
    "    if (np.sum(cum_regret) == 0):\n",
    "        p1_s = np.random.choice(3, p=[1/3, 1/3, 1/3])\n",
    "    else:\n",
    "        p1_s = np.random.choice(3, p=cum_regret)\n",
    "    \n",
    "    if (num2 <= .3):\n",
    "        p2_s = ROCK\n",
    "    elif (num2 <= 1):\n",
    "        p2_s = PAPER\n",
    "    else:\n",
    "        p2_s = SCISSORS\n",
    "    \n",
    "    score = value(p1_s, p2_s)\n",
    "    regrets = [0, 0, 0]\n",
    "#     print(p1_s, p2_s, score)\n",
    "    for k in range(0, 3):\n",
    "        if (k == p1_s):\n",
    "            regrets[k] = 0\n",
    "        else:\n",
    "            test = (value(k, p2_s)-score)\n",
    "            regrets[k] = test if test > score else 0\n",
    "    ss = np.sum(regrets)\n",
    "    for l in range(0, 3):\n",
    "        cum_regret[l] += regrets[l]\n",
    "    cum_regret = cum_regret / (1 if cum_regret.sum() == 0 else cum_regret.sum())\n",
    "print(cum_regret)        "
   ]
  },
  {
   "cell_type": "code",
   "execution_count": 8,
   "metadata": {},
   "outputs": [
    {
     "data": {
      "text/plain": [
       "<matplotlib.patches.Circle at 0x11d364d00>"
      ]
     },
     "execution_count": 8,
     "metadata": {},
     "output_type": "execute_result"
    },
    {
     "data": {
      "image/png": "[encoded data removed]",
      "text/plain": [
       "<Figure size 360x360 with 1 Axes>"
      ]
     },
     "metadata": {
      "needs_background": "light"
     },
     "output_type": "display_data"
    }
   ],
   "source": [
    "import matplotlib.pyplot as plt\n",
    "\n",
    "circle2 = plt.Circle((0.5, 0.5), 0.1, color='blue')\n",
    "\n",
    "fig, ax = plt.subplots() # note we must use plt.subplots, not plt.subplot\n",
    "fig.set_size_inches(5, 5)\n",
    "# (or if you have an existing figure)\n",
    "# fig = plt.gcf()\n",
    "# ax = fig.gca()\n",
    "\n",
    "ax.add_artist(circle2)"
   ]
  },
  {
   "cell_type": "code",
   "execution_count": null,
   "metadata": {},
   "outputs": [],
   "source": []
  }
 ],
 "metadata": {
  "kernelspec": {
   "display_name": "Python 3",
   "language": "python",
   "name": "python3"
  },
  "language_info": {
   "codemirror_mode": {
    "name": "ipython",
    "version": 3
   },
   "file_extension": ".py",
   "mimetype": "text/x-python",
   "name": "python",
   "nbconvert_exporter": "python",
   "pygments_lexer": "ipython3",
   "version": "3.6.1"
  }
 },
 "nbformat": 4,
 "nbformat_minor": 2
}

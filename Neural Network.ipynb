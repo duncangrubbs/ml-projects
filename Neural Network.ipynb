{
 "cells": [
  {
   "cell_type": "markdown",
   "metadata": {},
   "source": [
    "# Neural Network Implementation\n",
    "\n",
    "---\n",
    "\n",
    "> A simple implementation of a Neural Network, just to understand the structure, math, and basic principles\n",
    "\n",
    "_Implementation taking from this [book](http://neuralnetworksanddeeplearning.com/chap1.html)_"
   ]
  },
  {
   "cell_type": "code",
   "execution_count": 2,
   "metadata": {},
   "outputs": [],
   "source": [
    "import numpy as np\n",
    "\n",
    "# Network class\n",
    "class Network(object):\n",
    "    def __init__(self, sizes):\n",
    "        # sizes contains the number of neuron in each layer (e.g. [20, 5, 5, 10])\n",
    "        self.num_layers = len(sizes)\n",
    "        self.sizes = sizes\n",
    "        # create the weights and biases arrays as random gaussian distributions\n",
    "        # here we don't create biases for the first layer (0)\n",
    "        self.biases = [np.random.randn(y, 1) for y in sizes[1:]]\n",
    "        # here we don't create weights for the first and last layers, and we\n",
    "        # we need a weight for each 'connection', therefore we use zip\n",
    "        self.weights = [np.random.randn(y, x) for x, y in zip(sizes[:-1], sizes[1:])]"
   ]
  },
  {
   "cell_type": "code",
   "execution_count": null,
   "metadata": {},
   "outputs": [],
   "source": []
  }
 ],
 "metadata": {
  "kernelspec": {
   "display_name": "Python 3",
   "language": "python",
   "name": "python3"
  },
  "language_info": {
   "codemirror_mode": {
    "name": "ipython",
    "version": 3
   },
   "file_extension": ".py",
   "mimetype": "text/x-python",
   "name": "python",
   "nbconvert_exporter": "python",
   "pygments_lexer": "ipython3",
   "version": "3.8.0"
  }
 },
 "nbformat": 4,
 "nbformat_minor": 2
}
